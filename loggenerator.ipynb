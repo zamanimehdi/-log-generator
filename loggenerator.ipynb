{
 "cells": [
  {
   "cell_type": "code",
   "execution_count": null,
   "metadata": {},
   "outputs": [],
   "source": [
    "# fast time series log generator from sample log "
   ]
  },
  {
   "cell_type": "code",
   "execution_count": 10,
   "metadata": {},
   "outputs": [],
   "source": [
    "from datetime import datetime , timedelta\n",
    "import calendar\n",
    "import sys\n",
    "import time\n",
    "import random\n",
    "import re\n",
    "import os\n",
    "import math"
   ]
  },
  {
   "cell_type": "code",
   "execution_count": 11,
   "metadata": {},
   "outputs": [],
   "source": [
    "_eps=10                          # event per second\n",
    "_days_of_log=365                 # Number of event preparation days from today\n",
    "_logfile=\".\\log.txt\"             # sample log file \n",
    "_regex = r'\\d{10}.\\d{6}'         # datetime formate in sample log file"
   ]
  },
  {
   "cell_type": "code",
   "execution_count": 12,
   "metadata": {},
   "outputs": [],
   "source": [
    "def get_random_line():\n",
    "    total_bytes = os.stat(_logfile).st_size \n",
    "    random_point = random.randint(0, total_bytes)\n",
    "    file = open(_logfile)\n",
    "    file.seek(random_point)\n",
    "    file.readline() # skip this line to clear the partial line\n",
    "    return file.readline()"
   ]
  },
  {
   "cell_type": "code",
   "execution_count": 14,
   "metadata": {},
   "outputs": [],
   "source": [
    "def day_generate_file(dt):\n",
    "    fw = open(\"./daylog/\" + str(dt.year) + \"_\" + str(dt.month) + \"_\" + str(dt.day) + \".log\", \"w\")\n",
    "    min = datetime(dt.year,dt.month,dt.day,0,0,0)\n",
    "    max = datetime(dt.year,dt.month,dt.day,23,59,59)\n",
    "    mintime_ts = int(time.mktime(min.timetuple()))\n",
    "    maxtime_ts = int(time.mktime(max.timetuple()))\n",
    "    epd=86400*_eps\n",
    "    for RECORD in range(epd):  \n",
    "        random_ts = random.randint(mintime_ts, maxtime_ts)\n",
    "        randometime = datetime.fromtimestamp(random_ts)\n",
    "        new_line = re.sub(_regex, str(randometime), get_random_line())\n",
    "        fw.write(new_line)\n",
    "    fw.close()"
   ]
  },
  {
   "cell_type": "code",
   "execution_count": null,
   "metadata": {},
   "outputs": [
    {
     "name": "stdout",
     "output_type": "stream",
     "text": [
      "from: 04/26/2019, 21:39:33 to:04/25/2020, 21:39:33 with eps: 10\n"
     ]
    }
   ],
   "source": [
    "import threading\n",
    "end=datetime.now()\n",
    "start=end - timedelta(days=_days_of_log)\n",
    "print (\"from: \"+ start.strftime(\"%m/%d/%Y, %H:%M:%S\") + \" to:\" + end.strftime(\"%m/%d/%Y, %H:%M:%S\")+ \" with eps: \"+ str(_eps))\n",
    "threads = []\n",
    "while end > start:\n",
    "    t1 = threading.Thread(target=day_generate_file, args=[end])\n",
    "    threads.append(t1)\n",
    "    t1.start()\n",
    "    end=end-timedelta(days=1)\n",
    "    \n",
    "count=1\n",
    "for thread in threads:\n",
    "    thread.join()\n",
    "    print(\"day \"+str(count)+\" complete.\")\n",
    "    count+=1"
   ]
  },
  {
   "cell_type": "code",
   "execution_count": null,
   "metadata": {},
   "outputs": [],
   "source": [
    "import glob\n",
    "\n",
    "read_files = glob.glob(\"./daylog/*.log\")\n",
    "\n",
    "with open(\"result.csv\", \"wb\") as outfile:\n",
    "    for f in read_files:\n",
    "        with open(f, \"rb\") as infile:\n",
    "            outfile.write(infile.read())"
   ]
  }
 ],
 "metadata": {
  "kernelspec": {
   "display_name": "Python 3",
   "language": "python",
   "name": "python3"
  },
  "language_info": {
   "codemirror_mode": {
    "name": "ipython",
    "version": 3
   },
   "file_extension": ".py",
   "mimetype": "text/x-python",
   "name": "python",
   "nbconvert_exporter": "python",
   "pygments_lexer": "ipython3",
   "version": "3.7.4"
  }
 },
 "nbformat": 4,
 "nbformat_minor": 2
}
